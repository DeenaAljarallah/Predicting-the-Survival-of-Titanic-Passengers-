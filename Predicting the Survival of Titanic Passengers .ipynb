{
 "cells": [
  {
   "cell_type": "code",
   "execution_count": 1,
   "metadata": {
    "hideCode": false,
    "hidePrompt": false
   },
   "outputs": [],
   "source": [
    "import pandas as pd\n",
    "import numpy as np\n",
    "import seaborn as sns\n",
    "import matplotlib.pyplot as plt\n",
    "%matplotlib inline\n",
    "\n",
    "from sklearn.linear_model import LogisticRegression"
   ]
  },
  {
   "cell_type": "code",
   "execution_count": 13,
   "metadata": {
    "hideCode": false,
    "hidePrompt": false
   },
   "outputs": [],
   "source": [
    "titanic = pd.read_csv('titanic.csv')"
   ]
  },
  {
   "cell_type": "code",
   "execution_count": 14,
   "metadata": {
    "hideCode": false,
    "hidePrompt": false,
    "scrolled": true
   },
   "outputs": [
    {
     "data": {
      "text/html": [
       "<div>\n",
       "<style scoped>\n",
       "    .dataframe tbody tr th:only-of-type {\n",
       "        vertical-align: middle;\n",
       "    }\n",
       "\n",
       "    .dataframe tbody tr th {\n",
       "        vertical-align: top;\n",
       "    }\n",
       "\n",
       "    .dataframe thead th {\n",
       "        text-align: right;\n",
       "    }\n",
       "</style>\n",
       "<table border=\"1\" class=\"dataframe\">\n",
       "  <thead>\n",
       "    <tr style=\"text-align: right;\">\n",
       "      <th></th>\n",
       "      <th>PassengerId</th>\n",
       "      <th>Survived</th>\n",
       "      <th>Pclass</th>\n",
       "      <th>Name</th>\n",
       "      <th>Sex</th>\n",
       "      <th>Age</th>\n",
       "      <th>SibSp</th>\n",
       "      <th>Parch</th>\n",
       "      <th>Ticket</th>\n",
       "      <th>Fare</th>\n",
       "      <th>Cabin</th>\n",
       "      <th>Embarked</th>\n",
       "    </tr>\n",
       "  </thead>\n",
       "  <tbody>\n",
       "    <tr>\n",
       "      <td>0</td>\n",
       "      <td>1</td>\n",
       "      <td>0</td>\n",
       "      <td>3</td>\n",
       "      <td>Braund, Mr. Owen Harris</td>\n",
       "      <td>male</td>\n",
       "      <td>22.0</td>\n",
       "      <td>1</td>\n",
       "      <td>0</td>\n",
       "      <td>A/5 21171</td>\n",
       "      <td>7.2500</td>\n",
       "      <td>NaN</td>\n",
       "      <td>S</td>\n",
       "    </tr>\n",
       "    <tr>\n",
       "      <td>1</td>\n",
       "      <td>2</td>\n",
       "      <td>1</td>\n",
       "      <td>1</td>\n",
       "      <td>Cumings, Mrs. John Bradley (Florence Briggs Th...</td>\n",
       "      <td>female</td>\n",
       "      <td>38.0</td>\n",
       "      <td>1</td>\n",
       "      <td>0</td>\n",
       "      <td>PC 17599</td>\n",
       "      <td>71.2833</td>\n",
       "      <td>C85</td>\n",
       "      <td>C</td>\n",
       "    </tr>\n",
       "    <tr>\n",
       "      <td>2</td>\n",
       "      <td>3</td>\n",
       "      <td>1</td>\n",
       "      <td>3</td>\n",
       "      <td>Heikkinen, Miss. Laina</td>\n",
       "      <td>female</td>\n",
       "      <td>26.0</td>\n",
       "      <td>0</td>\n",
       "      <td>0</td>\n",
       "      <td>STON/O2. 3101282</td>\n",
       "      <td>7.9250</td>\n",
       "      <td>NaN</td>\n",
       "      <td>S</td>\n",
       "    </tr>\n",
       "    <tr>\n",
       "      <td>3</td>\n",
       "      <td>4</td>\n",
       "      <td>1</td>\n",
       "      <td>1</td>\n",
       "      <td>Futrelle, Mrs. Jacques Heath (Lily May Peel)</td>\n",
       "      <td>female</td>\n",
       "      <td>35.0</td>\n",
       "      <td>1</td>\n",
       "      <td>0</td>\n",
       "      <td>113803</td>\n",
       "      <td>53.1000</td>\n",
       "      <td>C123</td>\n",
       "      <td>S</td>\n",
       "    </tr>\n",
       "    <tr>\n",
       "      <td>4</td>\n",
       "      <td>5</td>\n",
       "      <td>0</td>\n",
       "      <td>3</td>\n",
       "      <td>Allen, Mr. William Henry</td>\n",
       "      <td>male</td>\n",
       "      <td>35.0</td>\n",
       "      <td>0</td>\n",
       "      <td>0</td>\n",
       "      <td>373450</td>\n",
       "      <td>8.0500</td>\n",
       "      <td>NaN</td>\n",
       "      <td>S</td>\n",
       "    </tr>\n",
       "  </tbody>\n",
       "</table>\n",
       "</div>"
      ],
      "text/plain": [
       "   PassengerId  Survived  Pclass  \\\n",
       "0            1         0       3   \n",
       "1            2         1       1   \n",
       "2            3         1       3   \n",
       "3            4         1       1   \n",
       "4            5         0       3   \n",
       "\n",
       "                                                Name     Sex   Age  SibSp  \\\n",
       "0                            Braund, Mr. Owen Harris    male  22.0      1   \n",
       "1  Cumings, Mrs. John Bradley (Florence Briggs Th...  female  38.0      1   \n",
       "2                             Heikkinen, Miss. Laina  female  26.0      0   \n",
       "3       Futrelle, Mrs. Jacques Heath (Lily May Peel)  female  35.0      1   \n",
       "4                           Allen, Mr. William Henry    male  35.0      0   \n",
       "\n",
       "   Parch            Ticket     Fare Cabin Embarked  \n",
       "0      0         A/5 21171   7.2500   NaN        S  \n",
       "1      0          PC 17599  71.2833   C85        C  \n",
       "2      0  STON/O2. 3101282   7.9250   NaN        S  \n",
       "3      0            113803  53.1000  C123        S  \n",
       "4      0            373450   8.0500   NaN        S  "
      ]
     },
     "execution_count": 14,
     "metadata": {},
     "output_type": "execute_result"
    }
   ],
   "source": [
    "titanic.head()"
   ]
  },
  {
   "cell_type": "markdown",
   "metadata": {
    "hideCode": false,
    "hidePrompt": false
   },
   "source": [
    "# Exploratory data analysis "
   ]
  },
  {
   "cell_type": "markdown",
   "metadata": {
    "hideCode": false,
    "hidePrompt": false
   },
   "source": [
    "### Check for missing values "
   ]
  },
  {
   "cell_type": "code",
   "execution_count": 15,
   "metadata": {
    "hideCode": false,
    "hidePrompt": false,
    "scrolled": false
   },
   "outputs": [
    {
     "data": {
      "text/plain": [
       "Cabin       687\n",
       "Age         177\n",
       "Embarked      2\n",
       "dtype: int64"
      ]
     },
     "execution_count": 15,
     "metadata": {},
     "output_type": "execute_result"
    }
   ],
   "source": [
    "# Check for missing values\n",
    "titanic.isnull().sum()\n",
    "\n",
    "# Filter out columns that have zero missing values per titanic.isnull().sum()\n",
    "titanic.isnull().sum()[titanic.isnull().sum() != 0].sort_values(ascending=False)"
   ]
  },
  {
   "cell_type": "markdown",
   "metadata": {
    "hideCode": false,
    "hidePrompt": false
   },
   "source": [
    "### Replace missing age values with the mean age by Sex and Pclass"
   ]
  },
  {
   "cell_type": "code",
   "execution_count": 16,
   "metadata": {
    "hideCode": false,
    "hidePrompt": false
   },
   "outputs": [
    {
     "data": {
      "text/plain": [
       "Sex     Pclass\n",
       "female  1         34.611765\n",
       "        2         28.722973\n",
       "        3         21.750000\n",
       "male    1         41.281386\n",
       "        2         30.740707\n",
       "        3         26.507589\n",
       "Name: Age, dtype: float64"
      ]
     },
     "execution_count": 16,
     "metadata": {},
     "output_type": "execute_result"
    }
   ],
   "source": [
    "subgroups = titanic.groupby([\"Sex\", 'Pclass']).mean()\n",
    "subgroups[\"Age\"]"
   ]
  },
  {
   "cell_type": "code",
   "execution_count": 17,
   "metadata": {
    "hideCode": false,
    "hidePrompt": false
   },
   "outputs": [],
   "source": [
    "titanic['Age'] = titanic.groupby([\"Sex\", 'Pclass'])[\"Age\"]\\\n",
    ".transform(lambda x: x.fillna(x.mean()))"
   ]
  },
  {
   "cell_type": "code",
   "execution_count": 18,
   "metadata": {
    "hideCode": false,
    "hidePrompt": false,
    "scrolled": true
   },
   "outputs": [
    {
     "data": {
      "text/plain": [
       "Cabin       687\n",
       "Embarked      2\n",
       "dtype: int64"
      ]
     },
     "execution_count": 18,
     "metadata": {},
     "output_type": "execute_result"
    }
   ],
   "source": [
    "# Check for missing values\n",
    "titanic.isnull().sum()\n",
    "\n",
    "# Filter out columns that have zero missing values per titanic.isnull().sum()\n",
    "titanic.isnull().sum()[titanic.isnull().sum() != 0].sort_values(ascending=False)"
   ]
  },
  {
   "cell_type": "code",
   "execution_count": 19,
   "metadata": {
    "scrolled": true
   },
   "outputs": [
    {
     "data": {
      "text/plain": [
       "Cabin    687\n",
       "dtype: int64"
      ]
     },
     "execution_count": 19,
     "metadata": {},
     "output_type": "execute_result"
    }
   ],
   "source": [
    "titanic.dropna(subset=['Embarked'], inplace=True, axis=0)\n",
    "titanic.isnull().sum()[titanic.isnull().sum() != 0].sort_values(ascending=False)"
   ]
  },
  {
   "cell_type": "code",
   "execution_count": 20,
   "metadata": {},
   "outputs": [],
   "source": [
    "titanic = pd.concat([titanic, pd.get_dummies(titanic[\"Embarked\"], \n",
    "                                             prefix = 'Embarked_', \n",
    "                                             drop_first=True)],axis = 1)"
   ]
  },
  {
   "cell_type": "code",
   "execution_count": 21,
   "metadata": {
    "scrolled": true
   },
   "outputs": [
    {
     "name": "stdout",
     "output_type": "stream",
     "text": [
      "Index(['Embarked', 'Embarked__Q', 'Embarked__S'], dtype='object')\n"
     ]
    },
    {
     "data": {
      "text/html": [
       "<div>\n",
       "<style scoped>\n",
       "    .dataframe tbody tr th:only-of-type {\n",
       "        vertical-align: middle;\n",
       "    }\n",
       "\n",
       "    .dataframe tbody tr th {\n",
       "        vertical-align: top;\n",
       "    }\n",
       "\n",
       "    .dataframe thead th {\n",
       "        text-align: right;\n",
       "    }\n",
       "</style>\n",
       "<table border=\"1\" class=\"dataframe\">\n",
       "  <thead>\n",
       "    <tr style=\"text-align: right;\">\n",
       "      <th></th>\n",
       "      <th>Embarked</th>\n",
       "      <th>Embarked__Q</th>\n",
       "      <th>Embarked__S</th>\n",
       "    </tr>\n",
       "  </thead>\n",
       "  <tbody>\n",
       "    <tr>\n",
       "      <td>0</td>\n",
       "      <td>S</td>\n",
       "      <td>0</td>\n",
       "      <td>1</td>\n",
       "    </tr>\n",
       "    <tr>\n",
       "      <td>1</td>\n",
       "      <td>C</td>\n",
       "      <td>0</td>\n",
       "      <td>0</td>\n",
       "    </tr>\n",
       "    <tr>\n",
       "      <td>2</td>\n",
       "      <td>S</td>\n",
       "      <td>0</td>\n",
       "      <td>1</td>\n",
       "    </tr>\n",
       "    <tr>\n",
       "      <td>3</td>\n",
       "      <td>S</td>\n",
       "      <td>0</td>\n",
       "      <td>1</td>\n",
       "    </tr>\n",
       "    <tr>\n",
       "      <td>4</td>\n",
       "      <td>S</td>\n",
       "      <td>0</td>\n",
       "      <td>1</td>\n",
       "    </tr>\n",
       "  </tbody>\n",
       "</table>\n",
       "</div>"
      ],
      "text/plain": [
       "  Embarked  Embarked__Q  Embarked__S\n",
       "0        S            0            1\n",
       "1        C            0            0\n",
       "2        S            0            1\n",
       "3        S            0            1\n",
       "4        S            0            1"
      ]
     },
     "execution_count": 21,
     "metadata": {},
     "output_type": "execute_result"
    }
   ],
   "source": [
    "print(titanic.filter(regex='Embarked').columns)\n",
    "titanic.filter(regex='Embarked').head()"
   ]
  },
  {
   "cell_type": "code",
   "execution_count": 22,
   "metadata": {},
   "outputs": [],
   "source": [
    "titanic.drop(['Embarked'], axis=1, inplace=True)"
   ]
  },
  {
   "cell_type": "code",
   "execution_count": 23,
   "metadata": {
    "scrolled": true
   },
   "outputs": [
    {
     "data": {
      "text/plain": [
       "PassengerId      int64\n",
       "Survived         int64\n",
       "Pclass           int64\n",
       "Name            object\n",
       "Sex             object\n",
       "Age            float64\n",
       "SibSp            int64\n",
       "Parch            int64\n",
       "Ticket          object\n",
       "Fare           float64\n",
       "Cabin           object\n",
       "Embarked__Q      uint8\n",
       "Embarked__S      uint8\n",
       "dtype: object"
      ]
     },
     "execution_count": 23,
     "metadata": {},
     "output_type": "execute_result"
    }
   ],
   "source": [
    "titanic.dtypes"
   ]
  },
  {
   "cell_type": "markdown",
   "metadata": {
    "hideCode": false,
    "hidePrompt": false
   },
   "source": [
    "### Check the distributions of your features"
   ]
  },
  {
   "cell_type": "code",
   "execution_count": 24,
   "metadata": {
    "hideCode": false,
    "hidePrompt": false,
    "scrolled": true
   },
   "outputs": [
    {
     "data": {
      "text/html": [
       "<style  type=\"text/css\" >\n",
       "</style><table id=\"T_8728e8dc_91fa_11ea_91d0_9758d8b69849\" ><thead>    <tr>        <th class=\"blank level0\" ></th>        <th class=\"col_heading level0 col0\" >count</th>        <th class=\"col_heading level0 col1\" >mean</th>        <th class=\"col_heading level0 col2\" >std</th>        <th class=\"col_heading level0 col3\" >min</th>        <th class=\"col_heading level0 col4\" >25%</th>        <th class=\"col_heading level0 col5\" >50%</th>        <th class=\"col_heading level0 col6\" >75%</th>        <th class=\"col_heading level0 col7\" >max</th>    </tr></thead><tbody>\n",
       "                <tr>\n",
       "                        <th id=\"T_8728e8dc_91fa_11ea_91d0_9758d8b69849level0_row0\" class=\"row_heading level0 row0\" >PassengerId</th>\n",
       "                        <td id=\"T_8728e8dc_91fa_11ea_91d0_9758d8b69849row0_col0\" class=\"data row0 col0\" >889</td>\n",
       "                        <td id=\"T_8728e8dc_91fa_11ea_91d0_9758d8b69849row0_col1\" class=\"data row0 col1\" >446</td>\n",
       "                        <td id=\"T_8728e8dc_91fa_11ea_91d0_9758d8b69849row0_col2\" class=\"data row0 col2\" >256.998</td>\n",
       "                        <td id=\"T_8728e8dc_91fa_11ea_91d0_9758d8b69849row0_col3\" class=\"data row0 col3\" >1</td>\n",
       "                        <td id=\"T_8728e8dc_91fa_11ea_91d0_9758d8b69849row0_col4\" class=\"data row0 col4\" >224</td>\n",
       "                        <td id=\"T_8728e8dc_91fa_11ea_91d0_9758d8b69849row0_col5\" class=\"data row0 col5\" >446</td>\n",
       "                        <td id=\"T_8728e8dc_91fa_11ea_91d0_9758d8b69849row0_col6\" class=\"data row0 col6\" >668</td>\n",
       "                        <td id=\"T_8728e8dc_91fa_11ea_91d0_9758d8b69849row0_col7\" class=\"data row0 col7\" >891</td>\n",
       "            </tr>\n",
       "            <tr>\n",
       "                        <th id=\"T_8728e8dc_91fa_11ea_91d0_9758d8b69849level0_row1\" class=\"row_heading level0 row1\" >Survived</th>\n",
       "                        <td id=\"T_8728e8dc_91fa_11ea_91d0_9758d8b69849row1_col0\" class=\"data row1 col0\" >889</td>\n",
       "                        <td id=\"T_8728e8dc_91fa_11ea_91d0_9758d8b69849row1_col1\" class=\"data row1 col1\" >0.382452</td>\n",
       "                        <td id=\"T_8728e8dc_91fa_11ea_91d0_9758d8b69849row1_col2\" class=\"data row1 col2\" >0.48626</td>\n",
       "                        <td id=\"T_8728e8dc_91fa_11ea_91d0_9758d8b69849row1_col3\" class=\"data row1 col3\" >0</td>\n",
       "                        <td id=\"T_8728e8dc_91fa_11ea_91d0_9758d8b69849row1_col4\" class=\"data row1 col4\" >0</td>\n",
       "                        <td id=\"T_8728e8dc_91fa_11ea_91d0_9758d8b69849row1_col5\" class=\"data row1 col5\" >0</td>\n",
       "                        <td id=\"T_8728e8dc_91fa_11ea_91d0_9758d8b69849row1_col6\" class=\"data row1 col6\" >1</td>\n",
       "                        <td id=\"T_8728e8dc_91fa_11ea_91d0_9758d8b69849row1_col7\" class=\"data row1 col7\" >1</td>\n",
       "            </tr>\n",
       "            <tr>\n",
       "                        <th id=\"T_8728e8dc_91fa_11ea_91d0_9758d8b69849level0_row2\" class=\"row_heading level0 row2\" >Pclass</th>\n",
       "                        <td id=\"T_8728e8dc_91fa_11ea_91d0_9758d8b69849row2_col0\" class=\"data row2 col0\" >889</td>\n",
       "                        <td id=\"T_8728e8dc_91fa_11ea_91d0_9758d8b69849row2_col1\" class=\"data row2 col1\" >2.31159</td>\n",
       "                        <td id=\"T_8728e8dc_91fa_11ea_91d0_9758d8b69849row2_col2\" class=\"data row2 col2\" >0.8347</td>\n",
       "                        <td id=\"T_8728e8dc_91fa_11ea_91d0_9758d8b69849row2_col3\" class=\"data row2 col3\" >1</td>\n",
       "                        <td id=\"T_8728e8dc_91fa_11ea_91d0_9758d8b69849row2_col4\" class=\"data row2 col4\" >2</td>\n",
       "                        <td id=\"T_8728e8dc_91fa_11ea_91d0_9758d8b69849row2_col5\" class=\"data row2 col5\" >3</td>\n",
       "                        <td id=\"T_8728e8dc_91fa_11ea_91d0_9758d8b69849row2_col6\" class=\"data row2 col6\" >3</td>\n",
       "                        <td id=\"T_8728e8dc_91fa_11ea_91d0_9758d8b69849row2_col7\" class=\"data row2 col7\" >3</td>\n",
       "            </tr>\n",
       "            <tr>\n",
       "                        <th id=\"T_8728e8dc_91fa_11ea_91d0_9758d8b69849level0_row3\" class=\"row_heading level0 row3\" >Age</th>\n",
       "                        <td id=\"T_8728e8dc_91fa_11ea_91d0_9758d8b69849row3_col0\" class=\"data row3 col0\" >889</td>\n",
       "                        <td id=\"T_8728e8dc_91fa_11ea_91d0_9758d8b69849row3_col1\" class=\"data row3 col1\" >29.2721</td>\n",
       "                        <td id=\"T_8728e8dc_91fa_11ea_91d0_9758d8b69849row3_col2\" class=\"data row3 col2\" >13.2475</td>\n",
       "                        <td id=\"T_8728e8dc_91fa_11ea_91d0_9758d8b69849row3_col3\" class=\"data row3 col3\" >0.42</td>\n",
       "                        <td id=\"T_8728e8dc_91fa_11ea_91d0_9758d8b69849row3_col4\" class=\"data row3 col4\" >21.75</td>\n",
       "                        <td id=\"T_8728e8dc_91fa_11ea_91d0_9758d8b69849row3_col5\" class=\"data row3 col5\" >26.5076</td>\n",
       "                        <td id=\"T_8728e8dc_91fa_11ea_91d0_9758d8b69849row3_col6\" class=\"data row3 col6\" >36</td>\n",
       "                        <td id=\"T_8728e8dc_91fa_11ea_91d0_9758d8b69849row3_col7\" class=\"data row3 col7\" >80</td>\n",
       "            </tr>\n",
       "            <tr>\n",
       "                        <th id=\"T_8728e8dc_91fa_11ea_91d0_9758d8b69849level0_row4\" class=\"row_heading level0 row4\" >SibSp</th>\n",
       "                        <td id=\"T_8728e8dc_91fa_11ea_91d0_9758d8b69849row4_col0\" class=\"data row4 col0\" >889</td>\n",
       "                        <td id=\"T_8728e8dc_91fa_11ea_91d0_9758d8b69849row4_col1\" class=\"data row4 col1\" >0.524184</td>\n",
       "                        <td id=\"T_8728e8dc_91fa_11ea_91d0_9758d8b69849row4_col2\" class=\"data row4 col2\" >1.1037</td>\n",
       "                        <td id=\"T_8728e8dc_91fa_11ea_91d0_9758d8b69849row4_col3\" class=\"data row4 col3\" >0</td>\n",
       "                        <td id=\"T_8728e8dc_91fa_11ea_91d0_9758d8b69849row4_col4\" class=\"data row4 col4\" >0</td>\n",
       "                        <td id=\"T_8728e8dc_91fa_11ea_91d0_9758d8b69849row4_col5\" class=\"data row4 col5\" >0</td>\n",
       "                        <td id=\"T_8728e8dc_91fa_11ea_91d0_9758d8b69849row4_col6\" class=\"data row4 col6\" >1</td>\n",
       "                        <td id=\"T_8728e8dc_91fa_11ea_91d0_9758d8b69849row4_col7\" class=\"data row4 col7\" >8</td>\n",
       "            </tr>\n",
       "            <tr>\n",
       "                        <th id=\"T_8728e8dc_91fa_11ea_91d0_9758d8b69849level0_row5\" class=\"row_heading level0 row5\" >Parch</th>\n",
       "                        <td id=\"T_8728e8dc_91fa_11ea_91d0_9758d8b69849row5_col0\" class=\"data row5 col0\" >889</td>\n",
       "                        <td id=\"T_8728e8dc_91fa_11ea_91d0_9758d8b69849row5_col1\" class=\"data row5 col1\" >0.382452</td>\n",
       "                        <td id=\"T_8728e8dc_91fa_11ea_91d0_9758d8b69849row5_col2\" class=\"data row5 col2\" >0.806761</td>\n",
       "                        <td id=\"T_8728e8dc_91fa_11ea_91d0_9758d8b69849row5_col3\" class=\"data row5 col3\" >0</td>\n",
       "                        <td id=\"T_8728e8dc_91fa_11ea_91d0_9758d8b69849row5_col4\" class=\"data row5 col4\" >0</td>\n",
       "                        <td id=\"T_8728e8dc_91fa_11ea_91d0_9758d8b69849row5_col5\" class=\"data row5 col5\" >0</td>\n",
       "                        <td id=\"T_8728e8dc_91fa_11ea_91d0_9758d8b69849row5_col6\" class=\"data row5 col6\" >0</td>\n",
       "                        <td id=\"T_8728e8dc_91fa_11ea_91d0_9758d8b69849row5_col7\" class=\"data row5 col7\" >6</td>\n",
       "            </tr>\n",
       "            <tr>\n",
       "                        <th id=\"T_8728e8dc_91fa_11ea_91d0_9758d8b69849level0_row6\" class=\"row_heading level0 row6\" >Fare</th>\n",
       "                        <td id=\"T_8728e8dc_91fa_11ea_91d0_9758d8b69849row6_col0\" class=\"data row6 col0\" >889</td>\n",
       "                        <td id=\"T_8728e8dc_91fa_11ea_91d0_9758d8b69849row6_col1\" class=\"data row6 col1\" >32.0967</td>\n",
       "                        <td id=\"T_8728e8dc_91fa_11ea_91d0_9758d8b69849row6_col2\" class=\"data row6 col2\" >49.6975</td>\n",
       "                        <td id=\"T_8728e8dc_91fa_11ea_91d0_9758d8b69849row6_col3\" class=\"data row6 col3\" >0</td>\n",
       "                        <td id=\"T_8728e8dc_91fa_11ea_91d0_9758d8b69849row6_col4\" class=\"data row6 col4\" >7.8958</td>\n",
       "                        <td id=\"T_8728e8dc_91fa_11ea_91d0_9758d8b69849row6_col5\" class=\"data row6 col5\" >14.4542</td>\n",
       "                        <td id=\"T_8728e8dc_91fa_11ea_91d0_9758d8b69849row6_col6\" class=\"data row6 col6\" >31</td>\n",
       "                        <td id=\"T_8728e8dc_91fa_11ea_91d0_9758d8b69849row6_col7\" class=\"data row6 col7\" >512.329</td>\n",
       "            </tr>\n",
       "            <tr>\n",
       "                        <th id=\"T_8728e8dc_91fa_11ea_91d0_9758d8b69849level0_row7\" class=\"row_heading level0 row7\" >Embarked__Q</th>\n",
       "                        <td id=\"T_8728e8dc_91fa_11ea_91d0_9758d8b69849row7_col0\" class=\"data row7 col0\" >889</td>\n",
       "                        <td id=\"T_8728e8dc_91fa_11ea_91d0_9758d8b69849row7_col1\" class=\"data row7 col1\" >0.0866142</td>\n",
       "                        <td id=\"T_8728e8dc_91fa_11ea_91d0_9758d8b69849row7_col2\" class=\"data row7 col2\" >0.281427</td>\n",
       "                        <td id=\"T_8728e8dc_91fa_11ea_91d0_9758d8b69849row7_col3\" class=\"data row7 col3\" >0</td>\n",
       "                        <td id=\"T_8728e8dc_91fa_11ea_91d0_9758d8b69849row7_col4\" class=\"data row7 col4\" >0</td>\n",
       "                        <td id=\"T_8728e8dc_91fa_11ea_91d0_9758d8b69849row7_col5\" class=\"data row7 col5\" >0</td>\n",
       "                        <td id=\"T_8728e8dc_91fa_11ea_91d0_9758d8b69849row7_col6\" class=\"data row7 col6\" >0</td>\n",
       "                        <td id=\"T_8728e8dc_91fa_11ea_91d0_9758d8b69849row7_col7\" class=\"data row7 col7\" >1</td>\n",
       "            </tr>\n",
       "            <tr>\n",
       "                        <th id=\"T_8728e8dc_91fa_11ea_91d0_9758d8b69849level0_row8\" class=\"row_heading level0 row8\" >Embarked__S</th>\n",
       "                        <td id=\"T_8728e8dc_91fa_11ea_91d0_9758d8b69849row8_col0\" class=\"data row8 col0\" >889</td>\n",
       "                        <td id=\"T_8728e8dc_91fa_11ea_91d0_9758d8b69849row8_col1\" class=\"data row8 col1\" >0.724409</td>\n",
       "                        <td id=\"T_8728e8dc_91fa_11ea_91d0_9758d8b69849row8_col2\" class=\"data row8 col2\" >0.447063</td>\n",
       "                        <td id=\"T_8728e8dc_91fa_11ea_91d0_9758d8b69849row8_col3\" class=\"data row8 col3\" >0</td>\n",
       "                        <td id=\"T_8728e8dc_91fa_11ea_91d0_9758d8b69849row8_col4\" class=\"data row8 col4\" >0</td>\n",
       "                        <td id=\"T_8728e8dc_91fa_11ea_91d0_9758d8b69849row8_col5\" class=\"data row8 col5\" >1</td>\n",
       "                        <td id=\"T_8728e8dc_91fa_11ea_91d0_9758d8b69849row8_col6\" class=\"data row8 col6\" >1</td>\n",
       "                        <td id=\"T_8728e8dc_91fa_11ea_91d0_9758d8b69849row8_col7\" class=\"data row8 col7\" >1</td>\n",
       "            </tr>\n",
       "    </tbody></table>"
      ],
      "text/plain": [
       "<pandas.io.formats.style.Styler at 0xd3ac700c48>"
      ]
     },
     "execution_count": 24,
     "metadata": {},
     "output_type": "execute_result"
    }
   ],
   "source": [
    "titanic.describe().T.style"
   ]
  },
  {
   "cell_type": "markdown",
   "metadata": {
    "hideCode": false,
    "hidePrompt": false
   },
   "source": [
    "### How many people survived? "
   ]
  },
  {
   "cell_type": "code",
   "execution_count": 25,
   "metadata": {
    "hideCode": false,
    "hidePrompt": false,
    "scrolled": true
   },
   "outputs": [
    {
     "data": {
      "text/plain": [
       "0    549\n",
       "1    340\n",
       "Name: Survived, dtype: int64"
      ]
     },
     "execution_count": 25,
     "metadata": {},
     "output_type": "execute_result"
    }
   ],
   "source": [
    "titanic[\"Survived\"].value_counts()"
   ]
  },
  {
   "cell_type": "markdown",
   "metadata": {
    "hideCode": false,
    "hidePrompt": false
   },
   "source": [
    "### Explore your other features"
   ]
  },
  {
   "cell_type": "code",
   "execution_count": 26,
   "metadata": {
    "hideCode": false,
    "hidePrompt": false,
    "scrolled": false
   },
   "outputs": [
    {
     "data": {
      "image/png": "[encoded data removed]",
      "text/plain": [
       "<Figure size 432x288 with 1 Axes>"
      ]
     },
     "metadata": {
      "needs_background": "light"
     },
     "output_type": "display_data"
    }
   ],
   "source": [
    "titanic['Age'].hist(grid=False, edgecolor='#000000');"
   ]
  },
  {
   "cell_type": "code",
   "execution_count": 27,
   "metadata": {
    "hideCode": false,
    "hidePrompt": false,
    "scrolled": true
   },
   "outputs": [
    {
     "data": {
      "image/png": "[encoded data removed]",
      "text/plain": [
       "<Figure size 432x288 with 1 Axes>"
      ]
     },
     "metadata": {
      "needs_background": "light"
     },
     "output_type": "display_data"
    }
   ],
   "source": [
    "titanic.groupby('Survived').Age.hist(grid=False, edgecolor='#000000');"
   ]
  },
  {
   "cell_type": "code",
   "execution_count": 28,
   "metadata": {
    "hideCode": false,
    "hidePrompt": false,
    "scrolled": true
   },
   "outputs": [
    {
     "data": {
      "text/plain": [
       "1    214\n",
       "2    184\n",
       "3    491\n",
       "Name: Pclass, dtype: int64"
      ]
     },
     "execution_count": 28,
     "metadata": {},
     "output_type": "execute_result"
    }
   ],
   "source": [
    "titanic['Pclass'].value_counts().sort_index()"
   ]
  },
  {
   "cell_type": "code",
   "execution_count": 29,
   "metadata": {
    "hideCode": false,
    "hidePrompt": false,
    "scrolled": false
   },
   "outputs": [
    {
     "data": {
      "text/plain": [
       "0    606\n",
       "1    209\n",
       "2     28\n",
       "3     16\n",
       "4     18\n",
       "5      5\n",
       "8      7\n",
       "Name: SibSp, dtype: int64"
      ]
     },
     "execution_count": 29,
     "metadata": {},
     "output_type": "execute_result"
    }
   ],
   "source": [
    "# sibsp - Number of Siblings/Spouses Aboard\n",
    "titanic[\"SibSp\"].value_counts().sort_index()"
   ]
  },
  {
   "cell_type": "code",
   "execution_count": 30,
   "metadata": {
    "hideCode": false,
    "hidePrompt": false
   },
   "outputs": [
    {
     "data": {
      "text/plain": [
       "0    676\n",
       "1    118\n",
       "2     80\n",
       "3      5\n",
       "4      4\n",
       "5      5\n",
       "6      1\n",
       "Name: Parch, dtype: int64"
      ]
     },
     "execution_count": 30,
     "metadata": {},
     "output_type": "execute_result"
    }
   ],
   "source": [
    "# parch - Number of Parents/Children Aboard\n",
    "titanic[\"Parch\"].value_counts().sort_index()"
   ]
  },
  {
   "cell_type": "markdown",
   "metadata": {
    "hideCode": false,
    "hidePrompt": false
   },
   "source": [
    "### How would you clean/combine these features?"
   ]
  },
  {
   "cell_type": "markdown",
   "metadata": {
    "hideCode": false,
    "hidePrompt": false
   },
   "source": [
    "Given the sample sizes, most people had neither a parent nor a sibling on board thus I'll just create indicator variables `had_parent` and  `had_sib`"
   ]
  },
  {
   "cell_type": "code",
   "execution_count": 31,
   "metadata": {
    "hideCode": false,
    "hidePrompt": false
   },
   "outputs": [
    {
     "data": {
      "text/plain": [
       "0    676\n",
       "1    213\n",
       "Name: had_parents, dtype: int64"
      ]
     },
     "execution_count": 31,
     "metadata": {},
     "output_type": "execute_result"
    }
   ],
   "source": [
    "titanic['had_parents'] = titanic.Parch.apply(lambda x: 1 if x > 0 else 0)\n",
    "titanic['had_parents'].value_counts()"
   ]
  },
  {
   "cell_type": "code",
   "execution_count": 32,
   "metadata": {
    "hideCode": false,
    "hidePrompt": false
   },
   "outputs": [
    {
     "data": {
      "text/plain": [
       "0    606\n",
       "1    283\n",
       "Name: had_siblings, dtype: int64"
      ]
     },
     "execution_count": 32,
     "metadata": {},
     "output_type": "execute_result"
    }
   ],
   "source": [
    "titanic['had_siblings'] = titanic.SibSp.apply(lambda x: 1 if x > 0 else 0)\n",
    "titanic['had_siblings'].value_counts()"
   ]
  },
  {
   "cell_type": "markdown",
   "metadata": {
    "hideCode": false,
    "hidePrompt": false
   },
   "source": [
    "### Which additional features require dummy variables? Create dummies for each of your categorical features"
   ]
  },
  {
   "cell_type": "code",
   "execution_count": 33,
   "metadata": {
    "hideCode": false,
    "hidePrompt": false
   },
   "outputs": [],
   "source": [
    "# Dummying up the hard way using .apply() and a lambda function\n",
    "titanic['is_female'] = titanic.Sex.apply(lambda x: 1 if x == 'female' else 0)"
   ]
  },
  {
   "cell_type": "code",
   "execution_count": 34,
   "metadata": {
    "hideCode": false,
    "hidePrompt": false
   },
   "outputs": [
    {
     "data": {
      "text/plain": [
       "male      577\n",
       "female    312\n",
       "Name: Sex, dtype: int64"
      ]
     },
     "execution_count": 34,
     "metadata": {},
     "output_type": "execute_result"
    }
   ],
   "source": [
    "titanic[\"Sex\"].value_counts()"
   ]
  },
  {
   "cell_type": "code",
   "execution_count": 35,
   "metadata": {
    "hideCode": false,
    "hidePrompt": false,
    "scrolled": true
   },
   "outputs": [
    {
     "data": {
      "text/plain": [
       "0    577\n",
       "1    312\n",
       "Name: is_female, dtype: int64"
      ]
     },
     "execution_count": 35,
     "metadata": {},
     "output_type": "execute_result"
    }
   ],
   "source": [
    "titanic[\"is_female\"].value_counts()"
   ]
  },
  {
   "cell_type": "code",
   "execution_count": 36,
   "metadata": {
    "hideCode": false,
    "hidePrompt": false,
    "scrolled": false
   },
   "outputs": [
    {
     "data": {
      "text/plain": [
       "Index(['PassengerId', 'Survived', 'Pclass', 'Name', 'Sex', 'Age', 'SibSp',\n",
       "       'Parch', 'Ticket', 'Fare', 'Cabin', 'Embarked__Q', 'Embarked__S',\n",
       "       'had_parents', 'had_siblings', 'is_female'],\n",
       "      dtype='object')"
      ]
     },
     "execution_count": 36,
     "metadata": {},
     "output_type": "execute_result"
    }
   ],
   "source": [
    "titanic.columns"
   ]
  },
  {
   "cell_type": "code",
   "execution_count": 37,
   "metadata": {
    "hideCode": false,
    "hidePrompt": false
   },
   "outputs": [
    {
     "data": {
      "text/html": [
       "<style  type=\"text/css\" >\n",
       "</style><table id=\"T_89ba6b76_91fa_11ea_96aa_9758d8b69849\" ><thead>    <tr>        <th class=\"blank level0\" ></th>        <th class=\"col_heading level0 col0\" >PassengerId</th>        <th class=\"col_heading level0 col1\" >Survived</th>        <th class=\"col_heading level0 col2\" >Pclass</th>        <th class=\"col_heading level0 col3\" >Age</th>        <th class=\"col_heading level0 col4\" >SibSp</th>        <th class=\"col_heading level0 col5\" >Parch</th>        <th class=\"col_heading level0 col6\" >Fare</th>        <th class=\"col_heading level0 col7\" >Embarked__Q</th>        <th class=\"col_heading level0 col8\" >Embarked__S</th>        <th class=\"col_heading level0 col9\" >had_parents</th>        <th class=\"col_heading level0 col10\" >had_siblings</th>        <th class=\"col_heading level0 col11\" >is_female</th>    </tr></thead><tbody>\n",
       "                <tr>\n",
       "                        <th id=\"T_89ba6b76_91fa_11ea_96aa_9758d8b69849level0_row0\" class=\"row_heading level0 row0\" >PassengerId</th>\n",
       "                        <td id=\"T_89ba6b76_91fa_11ea_96aa_9758d8b69849row0_col0\" class=\"data row0 col0\" >1</td>\n",
       "                        <td id=\"T_89ba6b76_91fa_11ea_96aa_9758d8b69849row0_col1\" class=\"data row0 col1\" >-0.00502832</td>\n",
       "                        <td id=\"T_89ba6b76_91fa_11ea_96aa_9758d8b69849row0_col2\" class=\"data row0 col2\" >-0.0353298</td>\n",
       "                        <td id=\"T_89ba6b76_91fa_11ea_96aa_9758d8b69849row0_col3\" class=\"data row0 col3\" >0.0368326</td>\n",
       "                        <td id=\"T_89ba6b76_91fa_11ea_96aa_9758d8b69849row0_col4\" class=\"data row0 col4\" >-0.0576859</td>\n",
       "                        <td id=\"T_89ba6b76_91fa_11ea_96aa_9758d8b69849row0_col5\" class=\"data row0 col5\" >-0.00165658</td>\n",
       "                        <td id=\"T_89ba6b76_91fa_11ea_96aa_9758d8b69849row0_col6\" class=\"data row0 col6\" >0.0127032</td>\n",
       "                        <td id=\"T_89ba6b76_91fa_11ea_96aa_9758d8b69849row0_col7\" class=\"data row0 col7\" >-0.0336937</td>\n",
       "                        <td id=\"T_89ba6b76_91fa_11ea_96aa_9758d8b69849row0_col8\" class=\"data row0 col8\" >0.0222688</td>\n",
       "                        <td id=\"T_89ba6b76_91fa_11ea_96aa_9758d8b69849row0_col9\" class=\"data row0 col9\" >0.00518135</td>\n",
       "                        <td id=\"T_89ba6b76_91fa_11ea_96aa_9758d8b69849row0_col10\" class=\"data row0 col10\" >-0.0535588</td>\n",
       "                        <td id=\"T_89ba6b76_91fa_11ea_96aa_9758d8b69849row0_col11\" class=\"data row0 col11\" >-0.043136</td>\n",
       "            </tr>\n",
       "            <tr>\n",
       "                        <th id=\"T_89ba6b76_91fa_11ea_96aa_9758d8b69849level0_row1\" class=\"row_heading level0 row1\" >Survived</th>\n",
       "                        <td id=\"T_89ba6b76_91fa_11ea_96aa_9758d8b69849row1_col0\" class=\"data row1 col0\" >-0.00502832</td>\n",
       "                        <td id=\"T_89ba6b76_91fa_11ea_96aa_9758d8b69849row1_col1\" class=\"data row1 col1\" >1</td>\n",
       "                        <td id=\"T_89ba6b76_91fa_11ea_96aa_9758d8b69849row1_col2\" class=\"data row1 col2\" >-0.335549</td>\n",
       "                        <td id=\"T_89ba6b76_91fa_11ea_96aa_9758d8b69849row1_col3\" class=\"data row1 col3\" >-0.0723206</td>\n",
       "                        <td id=\"T_89ba6b76_91fa_11ea_96aa_9758d8b69849row1_col4\" class=\"data row1 col4\" >-0.03404</td>\n",
       "                        <td id=\"T_89ba6b76_91fa_11ea_96aa_9758d8b69849row1_col5\" class=\"data row1 col5\" >0.0831508</td>\n",
       "                        <td id=\"T_89ba6b76_91fa_11ea_96aa_9758d8b69849row1_col6\" class=\"data row1 col6\" >0.25529</td>\n",
       "                        <td id=\"T_89ba6b76_91fa_11ea_96aa_9758d8b69849row1_col7\" class=\"data row1 col7\" >0.00453573</td>\n",
       "                        <td id=\"T_89ba6b76_91fa_11ea_96aa_9758d8b69849row1_col8\" class=\"data row1 col8\" >-0.151777</td>\n",
       "                        <td id=\"T_89ba6b76_91fa_11ea_96aa_9758d8b69849row1_col9\" class=\"data row1 col9\" >0.149328</td>\n",
       "                        <td id=\"T_89ba6b76_91fa_11ea_96aa_9758d8b69849row1_col10\" class=\"data row1 col10\" >0.118087</td>\n",
       "                        <td id=\"T_89ba6b76_91fa_11ea_96aa_9758d8b69849row1_col11\" class=\"data row1 col11\" >0.541585</td>\n",
       "            </tr>\n",
       "            <tr>\n",
       "                        <th id=\"T_89ba6b76_91fa_11ea_96aa_9758d8b69849level0_row2\" class=\"row_heading level0 row2\" >Pclass</th>\n",
       "                        <td id=\"T_89ba6b76_91fa_11ea_96aa_9758d8b69849row2_col0\" class=\"data row2 col0\" >-0.0353298</td>\n",
       "                        <td id=\"T_89ba6b76_91fa_11ea_96aa_9758d8b69849row2_col1\" class=\"data row2 col1\" >-0.335549</td>\n",
       "                        <td id=\"T_89ba6b76_91fa_11ea_96aa_9758d8b69849row2_col2\" class=\"data row2 col2\" >1</td>\n",
       "                        <td id=\"T_89ba6b76_91fa_11ea_96aa_9758d8b69849row2_col3\" class=\"data row2 col3\" >-0.404114</td>\n",
       "                        <td id=\"T_89ba6b76_91fa_11ea_96aa_9758d8b69849row2_col4\" class=\"data row2 col4\" >0.0816556</td>\n",
       "                        <td id=\"T_89ba6b76_91fa_11ea_96aa_9758d8b69849row2_col5\" class=\"data row2 col5\" >0.0168245</td>\n",
       "                        <td id=\"T_89ba6b76_91fa_11ea_96aa_9758d8b69849row2_col6\" class=\"data row2 col6\" >-0.548193</td>\n",
       "                        <td id=\"T_89ba6b76_91fa_11ea_96aa_9758d8b69849row2_col7\" class=\"data row2 col7\" >0.220558</td>\n",
       "                        <td id=\"T_89ba6b76_91fa_11ea_96aa_9758d8b69849row2_col8\" class=\"data row2 col8\" >0.0764664</td>\n",
       "                        <td id=\"T_89ba6b76_91fa_11ea_96aa_9758d8b69849row2_col9\" class=\"data row2 col9\" >-0.0295931</td>\n",
       "                        <td id=\"T_89ba6b76_91fa_11ea_96aa_9758d8b69849row2_col10\" class=\"data row2 col10\" >-0.0786712</td>\n",
       "                        <td id=\"T_89ba6b76_91fa_11ea_96aa_9758d8b69849row2_col11\" class=\"data row2 col11\" >-0.127741</td>\n",
       "            </tr>\n",
       "            <tr>\n",
       "                        <th id=\"T_89ba6b76_91fa_11ea_96aa_9758d8b69849level0_row3\" class=\"row_heading level0 row3\" >Age</th>\n",
       "                        <td id=\"T_89ba6b76_91fa_11ea_96aa_9758d8b69849row3_col0\" class=\"data row3 col0\" >0.0368326</td>\n",
       "                        <td id=\"T_89ba6b76_91fa_11ea_96aa_9758d8b69849row3_col1\" class=\"data row3 col1\" >-0.0723206</td>\n",
       "                        <td id=\"T_89ba6b76_91fa_11ea_96aa_9758d8b69849row3_col2\" class=\"data row3 col2\" >-0.404114</td>\n",
       "                        <td id=\"T_89ba6b76_91fa_11ea_96aa_9758d8b69849row3_col3\" class=\"data row3 col3\" >1</td>\n",
       "                        <td id=\"T_89ba6b76_91fa_11ea_96aa_9758d8b69849row3_col4\" class=\"data row3 col4\" >-0.250629</td>\n",
       "                        <td id=\"T_89ba6b76_91fa_11ea_96aa_9758d8b69849row3_col5\" class=\"data row3 col5\" >-0.179747</td>\n",
       "                        <td id=\"T_89ba6b76_91fa_11ea_96aa_9758d8b69849row3_col6\" class=\"data row3 col6\" >0.115477</td>\n",
       "                        <td id=\"T_89ba6b76_91fa_11ea_96aa_9758d8b69849row3_col7\" class=\"data row3 col7\" >-0.0833043</td>\n",
       "                        <td id=\"T_89ba6b76_91fa_11ea_96aa_9758d8b69849row3_col8\" class=\"data row3 col8\" >0.0144454</td>\n",
       "                        <td id=\"T_89ba6b76_91fa_11ea_96aa_9758d8b69849row3_col9\" class=\"data row3 col9\" >-0.260522</td>\n",
       "                        <td id=\"T_89ba6b76_91fa_11ea_96aa_9758d8b69849row3_col10\" class=\"data row3 col10\" >-0.153026</td>\n",
       "                        <td id=\"T_89ba6b76_91fa_11ea_96aa_9758d8b69849row3_col11\" class=\"data row3 col11\" >-0.118279</td>\n",
       "            </tr>\n",
       "            <tr>\n",
       "                        <th id=\"T_89ba6b76_91fa_11ea_96aa_9758d8b69849level0_row4\" class=\"row_heading level0 row4\" >SibSp</th>\n",
       "                        <td id=\"T_89ba6b76_91fa_11ea_96aa_9758d8b69849row4_col0\" class=\"data row4 col0\" >-0.0576859</td>\n",
       "                        <td id=\"T_89ba6b76_91fa_11ea_96aa_9758d8b69849row4_col1\" class=\"data row4 col1\" >-0.03404</td>\n",
       "                        <td id=\"T_89ba6b76_91fa_11ea_96aa_9758d8b69849row4_col2\" class=\"data row4 col2\" >0.0816556</td>\n",
       "                        <td id=\"T_89ba6b76_91fa_11ea_96aa_9758d8b69849row4_col3\" class=\"data row4 col3\" >-0.250629</td>\n",
       "                        <td id=\"T_89ba6b76_91fa_11ea_96aa_9758d8b69849row4_col4\" class=\"data row4 col4\" >1</td>\n",
       "                        <td id=\"T_89ba6b76_91fa_11ea_96aa_9758d8b69849row4_col5\" class=\"data row4 col5\" >0.414542</td>\n",
       "                        <td id=\"T_89ba6b76_91fa_11ea_96aa_9758d8b69849row4_col6\" class=\"data row4 col6\" >0.160887</td>\n",
       "                        <td id=\"T_89ba6b76_91fa_11ea_96aa_9758d8b69849row4_col7\" class=\"data row4 col7\" >-0.0266917</td>\n",
       "                        <td id=\"T_89ba6b76_91fa_11ea_96aa_9758d8b69849row4_col8\" class=\"data row4 col8\" >0.0694383</td>\n",
       "                        <td id=\"T_89ba6b76_91fa_11ea_96aa_9758d8b69849row4_col9\" class=\"data row4 col9\" >0.461923</td>\n",
       "                        <td id=\"T_89ba6b76_91fa_11ea_96aa_9758d8b69849row4_col10\" class=\"data row4 col10\" >0.695374</td>\n",
       "                        <td id=\"T_89ba6b76_91fa_11ea_96aa_9758d8b69849row4_col11\" class=\"data row4 col11\" >0.116348</td>\n",
       "            </tr>\n",
       "            <tr>\n",
       "                        <th id=\"T_89ba6b76_91fa_11ea_96aa_9758d8b69849level0_row5\" class=\"row_heading level0 row5\" >Parch</th>\n",
       "                        <td id=\"T_89ba6b76_91fa_11ea_96aa_9758d8b69849row5_col0\" class=\"data row5 col0\" >-0.00165658</td>\n",
       "                        <td id=\"T_89ba6b76_91fa_11ea_96aa_9758d8b69849row5_col1\" class=\"data row5 col1\" >0.0831508</td>\n",
       "                        <td id=\"T_89ba6b76_91fa_11ea_96aa_9758d8b69849row5_col2\" class=\"data row5 col2\" >0.0168245</td>\n",
       "                        <td id=\"T_89ba6b76_91fa_11ea_96aa_9758d8b69849row5_col3\" class=\"data row5 col3\" >-0.179747</td>\n",
       "                        <td id=\"T_89ba6b76_91fa_11ea_96aa_9758d8b69849row5_col4\" class=\"data row5 col4\" >0.414542</td>\n",
       "                        <td id=\"T_89ba6b76_91fa_11ea_96aa_9758d8b69849row5_col5\" class=\"data row5 col5\" >1</td>\n",
       "                        <td id=\"T_89ba6b76_91fa_11ea_96aa_9758d8b69849row5_col6\" class=\"data row5 col6\" >0.217532</td>\n",
       "                        <td id=\"T_89ba6b76_91fa_11ea_96aa_9758d8b69849row5_col7\" class=\"data row5 col7\" >-0.0815851</td>\n",
       "                        <td id=\"T_89ba6b76_91fa_11ea_96aa_9758d8b69849row5_col8\" class=\"data row5 col8\" >0.0615116</td>\n",
       "                        <td id=\"T_89ba6b76_91fa_11ea_96aa_9758d8b69849row5_col9\" class=\"data row5 col9\" >0.845007</td>\n",
       "                        <td id=\"T_89ba6b76_91fa_11ea_96aa_9758d8b69849row5_col10\" class=\"data row5 col10\" >0.355682</td>\n",
       "                        <td id=\"T_89ba6b76_91fa_11ea_96aa_9758d8b69849row5_col11\" class=\"data row5 col11\" >0.247508</td>\n",
       "            </tr>\n",
       "            <tr>\n",
       "                        <th id=\"T_89ba6b76_91fa_11ea_96aa_9758d8b69849level0_row6\" class=\"row_heading level0 row6\" >Fare</th>\n",
       "                        <td id=\"T_89ba6b76_91fa_11ea_96aa_9758d8b69849row6_col0\" class=\"data row6 col0\" >0.0127032</td>\n",
       "                        <td id=\"T_89ba6b76_91fa_11ea_96aa_9758d8b69849row6_col1\" class=\"data row6 col1\" >0.25529</td>\n",
       "                        <td id=\"T_89ba6b76_91fa_11ea_96aa_9758d8b69849row6_col2\" class=\"data row6 col2\" >-0.548193</td>\n",
       "                        <td id=\"T_89ba6b76_91fa_11ea_96aa_9758d8b69849row6_col3\" class=\"data row6 col3\" >0.115477</td>\n",
       "                        <td id=\"T_89ba6b76_91fa_11ea_96aa_9758d8b69849row6_col4\" class=\"data row6 col4\" >0.160887</td>\n",
       "                        <td id=\"T_89ba6b76_91fa_11ea_96aa_9758d8b69849row6_col5\" class=\"data row6 col5\" >0.217532</td>\n",
       "                        <td id=\"T_89ba6b76_91fa_11ea_96aa_9758d8b69849row6_col6\" class=\"data row6 col6\" >1</td>\n",
       "                        <td id=\"T_89ba6b76_91fa_11ea_96aa_9758d8b69849row6_col7\" class=\"data row6 col7\" >-0.116684</td>\n",
       "                        <td id=\"T_89ba6b76_91fa_11ea_96aa_9758d8b69849row6_col8\" class=\"data row6 col8\" >-0.163758</td>\n",
       "                        <td id=\"T_89ba6b76_91fa_11ea_96aa_9758d8b69849row6_col9\" class=\"data row6 col9\" >0.239264</td>\n",
       "                        <td id=\"T_89ba6b76_91fa_11ea_96aa_9758d8b69849row6_col10\" class=\"data row6 col10\" >0.19397</td>\n",
       "                        <td id=\"T_89ba6b76_91fa_11ea_96aa_9758d8b69849row6_col11\" class=\"data row6 col11\" >0.179958</td>\n",
       "            </tr>\n",
       "            <tr>\n",
       "                        <th id=\"T_89ba6b76_91fa_11ea_96aa_9758d8b69849level0_row7\" class=\"row_heading level0 row7\" >Embarked__Q</th>\n",
       "                        <td id=\"T_89ba6b76_91fa_11ea_96aa_9758d8b69849row7_col0\" class=\"data row7 col0\" >-0.0336937</td>\n",
       "                        <td id=\"T_89ba6b76_91fa_11ea_96aa_9758d8b69849row7_col1\" class=\"data row7 col1\" >0.00453573</td>\n",
       "                        <td id=\"T_89ba6b76_91fa_11ea_96aa_9758d8b69849row7_col2\" class=\"data row7 col2\" >0.220558</td>\n",
       "                        <td id=\"T_89ba6b76_91fa_11ea_96aa_9758d8b69849row7_col3\" class=\"data row7 col3\" >-0.0833043</td>\n",
       "                        <td id=\"T_89ba6b76_91fa_11ea_96aa_9758d8b69849row7_col4\" class=\"data row7 col4\" >-0.0266917</td>\n",
       "                        <td id=\"T_89ba6b76_91fa_11ea_96aa_9758d8b69849row7_col5\" class=\"data row7 col5\" >-0.0815851</td>\n",
       "                        <td id=\"T_89ba6b76_91fa_11ea_96aa_9758d8b69849row7_col6\" class=\"data row7 col6\" >-0.116684</td>\n",
       "                        <td id=\"T_89ba6b76_91fa_11ea_96aa_9758d8b69849row7_col7\" class=\"data row7 col7\" >1</td>\n",
       "                        <td id=\"T_89ba6b76_91fa_11ea_96aa_9758d8b69849row7_col8\" class=\"data row7 col8\" >-0.499261</td>\n",
       "                        <td id=\"T_89ba6b76_91fa_11ea_96aa_9758d8b69849row7_col9\" class=\"data row7 col9\" >-0.0978999</td>\n",
       "                        <td id=\"T_89ba6b76_91fa_11ea_96aa_9758d8b69849row7_col10\" class=\"data row7 col10\" >-0.055905</td>\n",
       "                        <td id=\"T_89ba6b76_91fa_11ea_96aa_9758d8b69849row7_col11\" class=\"data row7 col11\" >0.0752167</td>\n",
       "            </tr>\n",
       "            <tr>\n",
       "                        <th id=\"T_89ba6b76_91fa_11ea_96aa_9758d8b69849level0_row8\" class=\"row_heading level0 row8\" >Embarked__S</th>\n",
       "                        <td id=\"T_89ba6b76_91fa_11ea_96aa_9758d8b69849row8_col0\" class=\"data row8 col0\" >0.0222688</td>\n",
       "                        <td id=\"T_89ba6b76_91fa_11ea_96aa_9758d8b69849row8_col1\" class=\"data row8 col1\" >-0.151777</td>\n",
       "                        <td id=\"T_89ba6b76_91fa_11ea_96aa_9758d8b69849row8_col2\" class=\"data row8 col2\" >0.0764664</td>\n",
       "                        <td id=\"T_89ba6b76_91fa_11ea_96aa_9758d8b69849row8_col3\" class=\"data row8 col3\" >0.0144454</td>\n",
       "                        <td id=\"T_89ba6b76_91fa_11ea_96aa_9758d8b69849row8_col4\" class=\"data row8 col4\" >0.0694383</td>\n",
       "                        <td id=\"T_89ba6b76_91fa_11ea_96aa_9758d8b69849row8_col5\" class=\"data row8 col5\" >0.0615116</td>\n",
       "                        <td id=\"T_89ba6b76_91fa_11ea_96aa_9758d8b69849row8_col6\" class=\"data row8 col6\" >-0.163758</td>\n",
       "                        <td id=\"T_89ba6b76_91fa_11ea_96aa_9758d8b69849row8_col7\" class=\"data row8 col7\" >-0.499261</td>\n",
       "                        <td id=\"T_89ba6b76_91fa_11ea_96aa_9758d8b69849row8_col8\" class=\"data row8 col8\" >1</td>\n",
       "                        <td id=\"T_89ba6b76_91fa_11ea_96aa_9758d8b69849row8_col9\" class=\"data row8 col9\" >0.0336239</td>\n",
       "                        <td id=\"T_89ba6b76_91fa_11ea_96aa_9758d8b69849row8_col10\" class=\"data row8 col10\" >0.00536183</td>\n",
       "                        <td id=\"T_89ba6b76_91fa_11ea_96aa_9758d8b69849row8_col11\" class=\"data row8 col11\" >-0.121405</td>\n",
       "            </tr>\n",
       "            <tr>\n",
       "                        <th id=\"T_89ba6b76_91fa_11ea_96aa_9758d8b69849level0_row9\" class=\"row_heading level0 row9\" >had_parents</th>\n",
       "                        <td id=\"T_89ba6b76_91fa_11ea_96aa_9758d8b69849row9_col0\" class=\"data row9 col0\" >0.00518135</td>\n",
       "                        <td id=\"T_89ba6b76_91fa_11ea_96aa_9758d8b69849row9_col1\" class=\"data row9 col1\" >0.149328</td>\n",
       "                        <td id=\"T_89ba6b76_91fa_11ea_96aa_9758d8b69849row9_col2\" class=\"data row9 col2\" >-0.0295931</td>\n",
       "                        <td id=\"T_89ba6b76_91fa_11ea_96aa_9758d8b69849row9_col3\" class=\"data row9 col3\" >-0.260522</td>\n",
       "                        <td id=\"T_89ba6b76_91fa_11ea_96aa_9758d8b69849row9_col4\" class=\"data row9 col4\" >0.461923</td>\n",
       "                        <td id=\"T_89ba6b76_91fa_11ea_96aa_9758d8b69849row9_col5\" class=\"data row9 col5\" >0.845007</td>\n",
       "                        <td id=\"T_89ba6b76_91fa_11ea_96aa_9758d8b69849row9_col6\" class=\"data row9 col6\" >0.239264</td>\n",
       "                        <td id=\"T_89ba6b76_91fa_11ea_96aa_9758d8b69849row9_col7\" class=\"data row9 col7\" >-0.0978999</td>\n",
       "                        <td id=\"T_89ba6b76_91fa_11ea_96aa_9758d8b69849row9_col8\" class=\"data row9 col8\" >0.0336239</td>\n",
       "                        <td id=\"T_89ba6b76_91fa_11ea_96aa_9758d8b69849row9_col9\" class=\"data row9 col9\" >1</td>\n",
       "                        <td id=\"T_89ba6b76_91fa_11ea_96aa_9758d8b69849row9_col10\" class=\"data row9 col10\" >0.419741</td>\n",
       "                        <td id=\"T_89ba6b76_91fa_11ea_96aa_9758d8b69849row9_col11\" class=\"data row9 col11\" >0.249837</td>\n",
       "            </tr>\n",
       "            <tr>\n",
       "                        <th id=\"T_89ba6b76_91fa_11ea_96aa_9758d8b69849level0_row10\" class=\"row_heading level0 row10\" >had_siblings</th>\n",
       "                        <td id=\"T_89ba6b76_91fa_11ea_96aa_9758d8b69849row10_col0\" class=\"data row10 col0\" >-0.0535588</td>\n",
       "                        <td id=\"T_89ba6b76_91fa_11ea_96aa_9758d8b69849row10_col1\" class=\"data row10 col1\" >0.118087</td>\n",
       "                        <td id=\"T_89ba6b76_91fa_11ea_96aa_9758d8b69849row10_col2\" class=\"data row10 col2\" >-0.0786712</td>\n",
       "                        <td id=\"T_89ba6b76_91fa_11ea_96aa_9758d8b69849row10_col3\" class=\"data row10 col3\" >-0.153026</td>\n",
       "                        <td id=\"T_89ba6b76_91fa_11ea_96aa_9758d8b69849row10_col4\" class=\"data row10 col4\" >0.695374</td>\n",
       "                        <td id=\"T_89ba6b76_91fa_11ea_96aa_9758d8b69849row10_col5\" class=\"data row10 col5\" >0.355682</td>\n",
       "                        <td id=\"T_89ba6b76_91fa_11ea_96aa_9758d8b69849row10_col6\" class=\"data row10 col6\" >0.19397</td>\n",
       "                        <td id=\"T_89ba6b76_91fa_11ea_96aa_9758d8b69849row10_col7\" class=\"data row10 col7\" >-0.055905</td>\n",
       "                        <td id=\"T_89ba6b76_91fa_11ea_96aa_9758d8b69849row10_col8\" class=\"data row10 col8\" >0.00536183</td>\n",
       "                        <td id=\"T_89ba6b76_91fa_11ea_96aa_9758d8b69849row10_col9\" class=\"data row10 col9\" >0.419741</td>\n",
       "                        <td id=\"T_89ba6b76_91fa_11ea_96aa_9758d8b69849row10_col10\" class=\"data row10 col10\" >1</td>\n",
       "                        <td id=\"T_89ba6b76_91fa_11ea_96aa_9758d8b69849row10_col11\" class=\"data row10 col11\" >0.205817</td>\n",
       "            </tr>\n",
       "            <tr>\n",
       "                        <th id=\"T_89ba6b76_91fa_11ea_96aa_9758d8b69849level0_row11\" class=\"row_heading level0 row11\" >is_female</th>\n",
       "                        <td id=\"T_89ba6b76_91fa_11ea_96aa_9758d8b69849row11_col0\" class=\"data row11 col0\" >-0.043136</td>\n",
       "                        <td id=\"T_89ba6b76_91fa_11ea_96aa_9758d8b69849row11_col1\" class=\"data row11 col1\" >0.541585</td>\n",
       "                        <td id=\"T_89ba6b76_91fa_11ea_96aa_9758d8b69849row11_col2\" class=\"data row11 col2\" >-0.127741</td>\n",
       "                        <td id=\"T_89ba6b76_91fa_11ea_96aa_9758d8b69849row11_col3\" class=\"data row11 col3\" >-0.118279</td>\n",
       "                        <td id=\"T_89ba6b76_91fa_11ea_96aa_9758d8b69849row11_col4\" class=\"data row11 col4\" >0.116348</td>\n",
       "                        <td id=\"T_89ba6b76_91fa_11ea_96aa_9758d8b69849row11_col5\" class=\"data row11 col5\" >0.247508</td>\n",
       "                        <td id=\"T_89ba6b76_91fa_11ea_96aa_9758d8b69849row11_col6\" class=\"data row11 col6\" >0.179958</td>\n",
       "                        <td id=\"T_89ba6b76_91fa_11ea_96aa_9758d8b69849row11_col7\" class=\"data row11 col7\" >0.0752167</td>\n",
       "                        <td id=\"T_89ba6b76_91fa_11ea_96aa_9758d8b69849row11_col8\" class=\"data row11 col8\" >-0.121405</td>\n",
       "                        <td id=\"T_89ba6b76_91fa_11ea_96aa_9758d8b69849row11_col9\" class=\"data row11 col9\" >0.249837</td>\n",
       "                        <td id=\"T_89ba6b76_91fa_11ea_96aa_9758d8b69849row11_col10\" class=\"data row11 col10\" >0.205817</td>\n",
       "                        <td id=\"T_89ba6b76_91fa_11ea_96aa_9758d8b69849row11_col11\" class=\"data row11 col11\" >1</td>\n",
       "            </tr>\n",
       "    </tbody></table>"
      ],
      "text/plain": [
       "<pandas.io.formats.style.Styler at 0xd3ad417c88>"
      ]
     },
     "execution_count": 37,
     "metadata": {},
     "output_type": "execute_result"
    }
   ],
   "source": [
    "titanic.corr().style"
   ]
  },
  {
   "cell_type": "code",
   "execution_count": 38,
   "metadata": {
    "hideCode": false,
    "hidePrompt": false,
    "scrolled": true
   },
   "outputs": [
    {
     "data": {
      "image/png": "[encoded data removed]",
      "text/plain": [
       "<Figure size 864x432 with 2 Axes>"
      ]
     },
     "metadata": {
      "needs_background": "light"
     },
     "output_type": "display_data"
    }
   ],
   "source": [
    "import seaborn as sns\n",
    "import matplotlib.pyplot as plt\n",
    "plt.figure(figsize=(12,6))\n",
    "sns.heatmap(titanic.corr(), annot=True, linewidth=0.4);"
   ]
  },
  {
   "cell_type": "markdown",
   "metadata": {},
   "source": [
    "## Using scikit for prediction"
   ]
  },
  {
   "cell_type": "code",
   "execution_count": 39,
   "metadata": {
    "scrolled": true
   },
   "outputs": [
    {
     "data": {
      "text/plain": [
       "PassengerId       int64\n",
       "Survived          int64\n",
       "Pclass            int64\n",
       "Name             object\n",
       "Sex              object\n",
       "Age             float64\n",
       "SibSp             int64\n",
       "Parch             int64\n",
       "Ticket           object\n",
       "Fare            float64\n",
       "Cabin            object\n",
       "Embarked__Q       uint8\n",
       "Embarked__S       uint8\n",
       "had_parents       int64\n",
       "had_siblings      int64\n",
       "is_female         int64\n",
       "dtype: object"
      ]
     },
     "execution_count": 39,
     "metadata": {},
     "output_type": "execute_result"
    }
   ],
   "source": [
    "titanic.dtypes"
   ]
  },
  {
   "cell_type": "code",
   "execution_count": 40,
   "metadata": {
    "scrolled": true
   },
   "outputs": [
    {
     "data": {
      "text/plain": [
       "0    549\n",
       "1    340\n",
       "Name: Survived, dtype: int64"
      ]
     },
     "execution_count": 40,
     "metadata": {},
     "output_type": "execute_result"
    }
   ],
   "source": [
    "titanic.Survived.value_counts()"
   ]
  },
  {
   "cell_type": "code",
   "execution_count": 41,
   "metadata": {},
   "outputs": [],
   "source": [
    "# Fit a logistic regression model and store the class predictions.\n",
    "from sklearn.linear_model import LogisticRegression\n",
    "\n",
    "logreg = LogisticRegression()\n",
    "\n",
    "feature_cols = ['is_female']\n",
    "#feature_cols = ['is_female', 'Embarked__Q', 'Embarked__S', 'Pclass', 'Age']\n",
    "X = titanic[feature_cols]\n",
    "y = titanic.Survived\n",
    "\n",
    "logreg.fit(X,y)\n",
    "y_preds = logreg.predict(X)"
   ]
  },
  {
   "cell_type": "code",
   "execution_count": 42,
   "metadata": {
    "scrolled": true
   },
   "outputs": [
    {
     "name": "stdout",
     "output_type": "stream",
     "text": [
      "[[  0   1]\n",
      " [577 312]]\n"
     ]
    }
   ],
   "source": [
    "unique, counts = np.unique(y_preds, return_counts=True)\n",
    "print(np.asarray((unique, counts)))"
   ]
  },
  {
   "cell_type": "code",
   "execution_count": 43,
   "metadata": {},
   "outputs": [
    {
     "name": "stdout",
     "output_type": "stream",
     "text": [
      "577\n",
      "312\n"
     ]
    }
   ],
   "source": [
    "print(len(y_preds[y_preds==0]))\n",
    "print(len(y_preds[y_preds==1]))"
   ]
  },
  {
   "cell_type": "code",
   "execution_count": 44,
   "metadata": {},
   "outputs": [
    {
     "data": {
      "text/plain": [
       "0.7862767154105736"
      ]
     },
     "execution_count": 44,
     "metadata": {},
     "output_type": "execute_result"
    }
   ],
   "source": [
    "from sklearn.metrics import accuracy_score\n",
    "accuracy_score(y, y_preds)"
   ]
  },
  {
   "cell_type": "code",
   "execution_count": 45,
   "metadata": {},
   "outputs": [
    {
     "data": {
      "text/plain": [
       "0.6175478065241845"
      ]
     },
     "execution_count": 45,
     "metadata": {},
     "output_type": "execute_result"
    }
   ],
   "source": [
    "# baseline\n",
    "titanic.Survived.value_counts(normalize=True)[0]"
   ]
  },
  {
   "cell_type": "code",
   "execution_count": 46,
   "metadata": {},
   "outputs": [],
   "source": [
    "titanic['survived_pred'] = logreg.predict(X)"
   ]
  },
  {
   "cell_type": "code",
   "execution_count": 47,
   "metadata": {
    "scrolled": true
   },
   "outputs": [
    {
     "data": {
      "text/html": [
       "<div>\n",
       "<style scoped>\n",
       "    .dataframe tbody tr th:only-of-type {\n",
       "        vertical-align: middle;\n",
       "    }\n",
       "\n",
       "    .dataframe tbody tr th {\n",
       "        vertical-align: top;\n",
       "    }\n",
       "\n",
       "    .dataframe thead th {\n",
       "        text-align: right;\n",
       "    }\n",
       "</style>\n",
       "<table border=\"1\" class=\"dataframe\">\n",
       "  <thead>\n",
       "    <tr style=\"text-align: right;\">\n",
       "      <th></th>\n",
       "      <th>Survived</th>\n",
       "      <th>survived_pred</th>\n",
       "    </tr>\n",
       "  </thead>\n",
       "  <tbody>\n",
       "    <tr>\n",
       "      <td>0</td>\n",
       "      <td>0</td>\n",
       "      <td>0</td>\n",
       "    </tr>\n",
       "    <tr>\n",
       "      <td>1</td>\n",
       "      <td>1</td>\n",
       "      <td>1</td>\n",
       "    </tr>\n",
       "    <tr>\n",
       "      <td>2</td>\n",
       "      <td>1</td>\n",
       "      <td>1</td>\n",
       "    </tr>\n",
       "    <tr>\n",
       "      <td>3</td>\n",
       "      <td>1</td>\n",
       "      <td>1</td>\n",
       "    </tr>\n",
       "    <tr>\n",
       "      <td>4</td>\n",
       "      <td>0</td>\n",
       "      <td>0</td>\n",
       "    </tr>\n",
       "  </tbody>\n",
       "</table>\n",
       "</div>"
      ],
      "text/plain": [
       "   Survived  survived_pred\n",
       "0         0              0\n",
       "1         1              1\n",
       "2         1              1\n",
       "3         1              1\n",
       "4         0              0"
      ]
     },
     "execution_count": 47,
     "metadata": {},
     "output_type": "execute_result"
    }
   ],
   "source": [
    "titanic[['Survived', 'survived_pred']].head()"
   ]
  },
  {
   "cell_type": "markdown",
   "metadata": {},
   "source": [
    "What if we wanted the predicted probabilities instead of just the class predictions, to understand how confident we are in a given prediction?\n",
    "\n",
    "**Using the built-in `.predict_proba()` function, examine the predicted probabilities for the first handful of rows.**"
   ]
  },
  {
   "cell_type": "code",
   "execution_count": 48,
   "metadata": {},
   "outputs": [
    {
     "data": {
      "text/plain": [
       "array([[0.80686733, 0.19313267],\n",
       "       [0.26742775, 0.73257225],\n",
       "       [0.26742775, 0.73257225],\n",
       "       [0.26742775, 0.73257225],\n",
       "       [0.80686733, 0.19313267],\n",
       "       [0.80686733, 0.19313267],\n",
       "       [0.80686733, 0.19313267],\n",
       "       [0.80686733, 0.19313267],\n",
       "       [0.26742775, 0.73257225],\n",
       "       [0.26742775, 0.73257225]])"
      ]
     },
     "execution_count": 48,
     "metadata": {},
     "output_type": "execute_result"
    }
   ],
   "source": [
    "logreg.predict_proba(X)[0:10]"
   ]
  },
  {
   "cell_type": "markdown",
   "metadata": {},
   "source": [
    "Sklearn orders the columns according to our class labels. The two-column output of `predict_proba` returns a column for each class of our `Survived` variable. \n",
    "\n",
    "**The first column is the probability of `Survived=0` for a given row, and the second column is the probability of `Survived=1`.**\n",
    "\n",
    "**Store the predicted probabilities of `Survived=1` in its own column in the data set.**"
   ]
  },
  {
   "cell_type": "code",
   "execution_count": 49,
   "metadata": {},
   "outputs": [],
   "source": [
    "titanic['survived_pred_prob'] = logreg.predict_proba(X)[:, 1]\n",
    "titanic['deceased_pred_prob'] = logreg.predict_proba(X)[:, 0]"
   ]
  },
  {
   "cell_type": "code",
   "execution_count": 50,
   "metadata": {
    "scrolled": false
   },
   "outputs": [
    {
     "data": {
      "text/html": [
       "<div>\n",
       "<style scoped>\n",
       "    .dataframe tbody tr th:only-of-type {\n",
       "        vertical-align: middle;\n",
       "    }\n",
       "\n",
       "    .dataframe tbody tr th {\n",
       "        vertical-align: top;\n",
       "    }\n",
       "\n",
       "    .dataframe thead th {\n",
       "        text-align: right;\n",
       "    }\n",
       "</style>\n",
       "<table border=\"1\" class=\"dataframe\">\n",
       "  <thead>\n",
       "    <tr style=\"text-align: right;\">\n",
       "      <th></th>\n",
       "      <th>Survived</th>\n",
       "      <th>survived_pred</th>\n",
       "      <th>deceased_pred_prob</th>\n",
       "      <th>survived_pred_prob</th>\n",
       "    </tr>\n",
       "  </thead>\n",
       "  <tbody>\n",
       "    <tr>\n",
       "      <td>0</td>\n",
       "      <td>0</td>\n",
       "      <td>0</td>\n",
       "      <td>0.806867</td>\n",
       "      <td>0.193133</td>\n",
       "    </tr>\n",
       "    <tr>\n",
       "      <td>1</td>\n",
       "      <td>1</td>\n",
       "      <td>1</td>\n",
       "      <td>0.267428</td>\n",
       "      <td>0.732572</td>\n",
       "    </tr>\n",
       "    <tr>\n",
       "      <td>2</td>\n",
       "      <td>1</td>\n",
       "      <td>1</td>\n",
       "      <td>0.267428</td>\n",
       "      <td>0.732572</td>\n",
       "    </tr>\n",
       "    <tr>\n",
       "      <td>3</td>\n",
       "      <td>1</td>\n",
       "      <td>1</td>\n",
       "      <td>0.267428</td>\n",
       "      <td>0.732572</td>\n",
       "    </tr>\n",
       "    <tr>\n",
       "      <td>4</td>\n",
       "      <td>0</td>\n",
       "      <td>0</td>\n",
       "      <td>0.806867</td>\n",
       "      <td>0.193133</td>\n",
       "    </tr>\n",
       "    <tr>\n",
       "      <td>5</td>\n",
       "      <td>0</td>\n",
       "      <td>0</td>\n",
       "      <td>0.806867</td>\n",
       "      <td>0.193133</td>\n",
       "    </tr>\n",
       "    <tr>\n",
       "      <td>6</td>\n",
       "      <td>0</td>\n",
       "      <td>0</td>\n",
       "      <td>0.806867</td>\n",
       "      <td>0.193133</td>\n",
       "    </tr>\n",
       "    <tr>\n",
       "      <td>7</td>\n",
       "      <td>0</td>\n",
       "      <td>0</td>\n",
       "      <td>0.806867</td>\n",
       "      <td>0.193133</td>\n",
       "    </tr>\n",
       "    <tr>\n",
       "      <td>8</td>\n",
       "      <td>1</td>\n",
       "      <td>1</td>\n",
       "      <td>0.267428</td>\n",
       "      <td>0.732572</td>\n",
       "    </tr>\n",
       "    <tr>\n",
       "      <td>9</td>\n",
       "      <td>1</td>\n",
       "      <td>1</td>\n",
       "      <td>0.267428</td>\n",
       "      <td>0.732572</td>\n",
       "    </tr>\n",
       "  </tbody>\n",
       "</table>\n",
       "</div>"
      ],
      "text/plain": [
       "   Survived  survived_pred  deceased_pred_prob  survived_pred_prob\n",
       "0         0              0            0.806867            0.193133\n",
       "1         1              1            0.267428            0.732572\n",
       "2         1              1            0.267428            0.732572\n",
       "3         1              1            0.267428            0.732572\n",
       "4         0              0            0.806867            0.193133\n",
       "5         0              0            0.806867            0.193133\n",
       "6         0              0            0.806867            0.193133\n",
       "7         0              0            0.806867            0.193133\n",
       "8         1              1            0.267428            0.732572\n",
       "9         1              1            0.267428            0.732572"
      ]
     },
     "execution_count": 50,
     "metadata": {},
     "output_type": "execute_result"
    }
   ],
   "source": [
    "titanic[['Survived', 'survived_pred', \n",
    "         'deceased_pred_prob', 'survived_pred_prob']].head(10)"
   ]
  }
 ],
 "metadata": {
  "hide_code_all_hidden": false,
  "kernelspec": {
   "display_name": "Python 3",
   "language": "python",
   "name": "python3"
  },
  "language_info": {
   "codemirror_mode": {
    "name": "ipython",
    "version": 3
   },
   "file_extension": ".py",
   "mimetype": "text/x-python",
   "name": "python",
   "nbconvert_exporter": "python",
   "pygments_lexer": "ipython3",
   "version": "3.7.4"
  }
 },
 "nbformat": 4,
 "nbformat_minor": 1
}
